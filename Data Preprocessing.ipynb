{
 "cells": [
  {
   "cell_type": "markdown",
   "metadata": {},
   "source": [
    "# GRIPFEB21"
   ]
  },
  {
   "cell_type": "markdown",
   "metadata": {},
   "source": [
    "# Sparks Foundation Internship\n",
    "# Name : Abhisarika Tidke\n",
    "# Domain : Computer Vision and Internet Of Things\n",
    "# Task 4 : Detection of Face Mask(Intermediate Level)"
   ]
  },
  {
   "cell_type": "code",
   "execution_count": 5,
   "metadata": {},
   "outputs": [],
   "source": [
    "#importing libraries\n",
    "import cv2\n",
    "import os\n",
    "import numpy as np\n",
    "from keras.utils import np_utils"
   ]
  },
  {
   "cell_type": "code",
   "execution_count": 7,
   "metadata": {},
   "outputs": [
    {
     "name": "stdout",
     "output_type": "stream",
     "text": [
      "{'without_mask': 0, 'with_mask': 1}\n",
      "['without_mask', 'with_mask']\n",
      "[0, 1]\n"
     ]
    }
   ],
   "source": [
    "path='data'#path of the dataset\n",
    "categories=os.listdir(path)#loading the folder names\n",
    "labels=[i for i in range(len(categories))]\n",
    "\n",
    "label_dict=dict(zip(categories,labels)) #empty dictionary\n",
    "\n",
    "print(label_dict)\n",
    "print(categories)\n",
    "print(labels)"
   ]
  },
  {
   "cell_type": "code",
   "execution_count": 2,
   "metadata": {},
   "outputs": [],
   "source": [
    "#images in the dataset will be converted into gray scale first then they will be resized into size 100 by 100\n",
    "img_size=100\n",
    "data=[]\n",
    "target=[]\n",
    "\n",
    "for category in categories:#iterating through the 2 folders one by one\n",
    "    folder_path=os.path.join(path,category)\n",
    "    img_names=os.listdir(folder_path)\n",
    "        \n",
    "    for im in img_names:\n",
    "        img_path=os.path.join(folder_path,img_name)\n",
    "        img=cv2.imread(img_path)\n",
    "\n",
    "        try:\n",
    "            gray_img=cv2.cvtColor(img,cv2.COLOR_BGR2GRAY)#Coverting the image into gray scale           \n",
    "            resized_img=cv2.resize(gray_img,(img_size,img_size))#resizing all the images into a common size 100x100\n",
    "            data.append(resized_img)\n",
    "            target.append(label_dict[category])\n",
    "            #appending the image and the label into the list\n",
    "\n",
    "        except Exception as e:\n",
    "            print('Exception:',e)#in case of any exception control will be passed to next image"
   ]
  },
  {
   "cell_type": "code",
   "execution_count": 8,
   "metadata": {},
   "outputs": [],
   "source": [
    "data=np.array(data)/255.0#normalizing the images present in list data\n",
    "data=np.reshape(data,(data.shape[0],img_size,img_size,1))#reshaping list into a 4D array\n",
    "target=np.array(target)\n",
    "\n",
    "new_target=np_utils.to_categorical(target)"
   ]
  },
  {
   "cell_type": "code",
   "execution_count": 11,
   "metadata": {},
   "outputs": [],
   "source": [
    "#saving the data and target\n",
    "np.save('data',data)\n",
    "np.save('target',new_target)"
   ]
  }
 ],
 "metadata": {
  "kernelspec": {
   "display_name": "Python 3",
   "language": "python",
   "name": "python3"
  },
  "language_info": {
   "codemirror_mode": {
    "name": "ipython",
    "version": 3
   },
   "file_extension": ".py",
   "mimetype": "text/x-python",
   "name": "python",
   "nbconvert_exporter": "python",
   "pygments_lexer": "ipython3",
   "version": "3.8.5"
  }
 },
 "nbformat": 4,
 "nbformat_minor": 2
}
